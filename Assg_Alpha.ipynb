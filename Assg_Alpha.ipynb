import pandas as pd
import numpy as np

data1 = [5,4,2,8,0,1]
sr1 = pd.Series(data1)

sr1.values
