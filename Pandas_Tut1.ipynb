{
  "cells": [
    {
      "cell_type": "code",
      "execution_count": null,
      "id": "1dd26704",
      "metadata": {
        "id": "1dd26704"
      },
      "outputs": [],
      "source": [
        "import pandas as pd\n",
        "import numpy as np"
      ]
    },
    {
      "cell_type": "code",
      "execution_count": null,
      "id": "f0ca975b",
      "metadata": {
        "id": "f0ca975b"
      },
      "outputs": [],
      "source": [
        "data1 = [5,4,2,8,0,1]\n",
        "sr1 = pd.Series(data1)"
      ]
    },
    {
      "cell_type": "code",
      "execution_count": null,
      "id": "5e24e41f",
      "metadata": {
        "id": "5e24e41f",
        "outputId": "2eb60559-0ca4-40ff-c952-57021c2ee9d1"
      },
      "outputs": [
        {
          "data": {
            "text/plain": [
              "array([5, 4, 2, 8, 0, 1], dtype=int64)"
            ]
          },
          "execution_count": 7,
          "metadata": {},
          "output_type": "execute_result"
        }
      ],
      "source": [
        "sr1.values"
      ]
    },
    {
      "cell_type": "code",
      "execution_count": null,
      "id": "15144d9c",
      "metadata": {
        "id": "15144d9c",
        "outputId": "13aed109-e39f-4c61-e4dc-6347d2435a09"
      },
      "outputs": [
        {
          "data": {
            "text/plain": [
              "2"
            ]
          },
          "execution_count": 8,
          "metadata": {},
          "output_type": "execute_result"
        }
      ],
      "source": [
        "sr1[2]"
      ]
    },
    {
      "cell_type": "code",
      "execution_count": null,
      "id": "d1a6c0f1",
      "metadata": {
        "id": "d1a6c0f1",
        "outputId": "67348907-f64c-4dd8-c256-6a8f0832ab55"
      },
      "outputs": [
        {
          "data": {
            "text/plain": [
              "7"
            ]
          },
          "execution_count": 9,
          "metadata": {},
          "output_type": "execute_result"
        }
      ],
      "source": [
        "sr2 = pd.Series([4,7,1,-2], index=['b','d','f','c'])\n",
        "sr2['d']"
      ]
    },
    {
      "cell_type": "code",
      "execution_count": null,
      "id": "1846d9a0",
      "metadata": {
        "id": "1846d9a0",
        "outputId": "6ec3e80d-da53-490a-b8d9-bfaea6cbfa0f"
      },
      "outputs": [
        {
          "data": {
            "text/plain": [
              "b     8\n",
              "d    14\n",
              "f     2\n",
              "c    -4\n",
              "dtype: int64"
            ]
          },
          "execution_count": 10,
          "metadata": {},
          "output_type": "execute_result"
        }
      ],
      "source": [
        "sr2*2"
      ]
    },
    {
      "cell_type": "code",
      "execution_count": null,
      "id": "934e959c",
      "metadata": {
        "id": "934e959c",
        "outputId": "534159c5-082e-4ff9-f078-b9d1b70973c2"
      },
      "outputs": [
        {
          "data": {
            "text/plain": [
              "b      54.598150\n",
              "d    1096.633158\n",
              "f       2.718282\n",
              "c       0.135335\n",
              "dtype: float64"
            ]
          },
          "execution_count": 13,
          "metadata": {},
          "output_type": "execute_result"
        }
      ],
      "source": [
        "np.exp(sr2)"
      ]
    },
    {
      "cell_type": "code",
      "execution_count": null,
      "id": "3b8bfe0e",
      "metadata": {
        "id": "3b8bfe0e"
      },
      "outputs": [],
      "source": [
        "data = {'university': ['USM', 'UM', 'UPM', 'UKM', 'UTM', 'UiTM', 'UniMAP',\n",
        "'UTHM'],\n",
        "'year': [1969, 1905, 1931, 1970, 1972, 1956, 2001, 1993],\n",
        "'location': ['Pulau Pinang', 'Kuala Lumpur', 'Serdang, Selangor',\n",
        "'Bangi, Selangor', 'Skudai, Johor', 'Shah Alam, Selangor', 'Arau, Perlis',\n",
        "'Batu Pahat, Johor']}\n",
        "fm1 = pd.DataFrame(data)"
      ]
    },
    {
      "cell_type": "code",
      "execution_count": null,
      "id": "05cb2cac",
      "metadata": {
        "id": "05cb2cac",
        "outputId": "9ff1d6c1-5585-47e3-8049-13f16212ae16"
      },
      "outputs": [
        {
          "data": {
            "text/html": [
              "<div>\n",
              "<style scoped>\n",
              "    .dataframe tbody tr th:only-of-type {\n",
              "        vertical-align: middle;\n",
              "    }\n",
              "\n",
              "    .dataframe tbody tr th {\n",
              "        vertical-align: top;\n",
              "    }\n",
              "\n",
              "    .dataframe thead th {\n",
              "        text-align: right;\n",
              "    }\n",
              "</style>\n",
              "<table border=\"1\" class=\"dataframe\">\n",
              "  <thead>\n",
              "    <tr style=\"text-align: right;\">\n",
              "      <th></th>\n",
              "      <th>university</th>\n",
              "      <th>year</th>\n",
              "      <th>location</th>\n",
              "    </tr>\n",
              "  </thead>\n",
              "  <tbody>\n",
              "    <tr>\n",
              "      <th>0</th>\n",
              "      <td>USM</td>\n",
              "      <td>1969</td>\n",
              "      <td>Pulau Pinang</td>\n",
              "    </tr>\n",
              "    <tr>\n",
              "      <th>1</th>\n",
              "      <td>UM</td>\n",
              "      <td>1905</td>\n",
              "      <td>Kuala Lumpur</td>\n",
              "    </tr>\n",
              "    <tr>\n",
              "      <th>2</th>\n",
              "      <td>UPM</td>\n",
              "      <td>1931</td>\n",
              "      <td>Serdang, Selangor</td>\n",
              "    </tr>\n",
              "    <tr>\n",
              "      <th>3</th>\n",
              "      <td>UKM</td>\n",
              "      <td>1970</td>\n",
              "      <td>Bangi, Selangor</td>\n",
              "    </tr>\n",
              "    <tr>\n",
              "      <th>4</th>\n",
              "      <td>UTM</td>\n",
              "      <td>1972</td>\n",
              "      <td>Skudai, Johor</td>\n",
              "    </tr>\n",
              "  </tbody>\n",
              "</table>\n",
              "</div>"
            ],
            "text/plain": [
              "  university  year           location\n",
              "0        USM  1969       Pulau Pinang\n",
              "1         UM  1905       Kuala Lumpur\n",
              "2        UPM  1931  Serdang, Selangor\n",
              "3        UKM  1970    Bangi, Selangor\n",
              "4        UTM  1972      Skudai, Johor"
            ]
          },
          "execution_count": 17,
          "metadata": {},
          "output_type": "execute_result"
        }
      ],
      "source": [
        "fm1.head()"
      ]
    },
    {
      "cell_type": "code",
      "execution_count": null,
      "id": "32c79285",
      "metadata": {
        "id": "32c79285",
        "outputId": "56ac8a20-d69f-4dc7-9fbf-7c0cc8d4b818"
      },
      "outputs": [
        {
          "data": {
            "text/plain": [
              "0       USM\n",
              "1        UM\n",
              "2       UPM\n",
              "3       UKM\n",
              "4       UTM\n",
              "5      UiTM\n",
              "6    UniMAP\n",
              "7      UTHM\n",
              "Name: university, dtype: object"
            ]
          },
          "execution_count": 18,
          "metadata": {},
          "output_type": "execute_result"
        }
      ],
      "source": [
        "fm1['university']"
      ]
    },
    {
      "cell_type": "code",
      "execution_count": null,
      "id": "ec2eef11",
      "metadata": {
        "id": "ec2eef11",
        "outputId": "357f9ff8-774b-4416-eab9-3bc3e12888bb"
      },
      "outputs": [
        {
          "data": {
            "text/plain": [
              "0    1969\n",
              "1    1905\n",
              "2    1931\n",
              "3    1970\n",
              "4    1972\n",
              "5    1956\n",
              "6    2001\n",
              "7    1993\n",
              "Name: year, dtype: int64"
            ]
          },
          "execution_count": 20,
          "metadata": {},
          "output_type": "execute_result"
        }
      ],
      "source": [
        "fm1['year']"
      ]
    },
    {
      "cell_type": "code",
      "execution_count": null,
      "id": "ebdb0982",
      "metadata": {
        "id": "ebdb0982",
        "outputId": "06176abf-ec0c-47db-de2a-27ef95a04c82"
      },
      "outputs": [
        {
          "data": {
            "text/plain": [
              "university                UKM\n",
              "year                     1970\n",
              "location      Bangi, Selangor\n",
              "Name: 3, dtype: object"
            ]
          },
          "execution_count": 21,
          "metadata": {},
          "output_type": "execute_result"
        }
      ],
      "source": [
        "fm1.loc[3]"
      ]
    },
    {
      "cell_type": "code",
      "execution_count": null,
      "id": "e4cc934d",
      "metadata": {
        "id": "e4cc934d"
      },
      "outputs": [],
      "source": [
        "fm1.loc[8] = {'year': 2000, 'university': 'UteM', 'location': 'Durian, Melaka'}"
      ]
    },
    {
      "cell_type": "code",
      "execution_count": null,
      "id": "177b668f",
      "metadata": {
        "id": "177b668f",
        "outputId": "8a795a17-f2e6-46e0-b08c-958bc27b86a0"
      },
      "outputs": [
        {
          "data": {
            "text/html": [
              "<div>\n",
              "<style scoped>\n",
              "    .dataframe tbody tr th:only-of-type {\n",
              "        vertical-align: middle;\n",
              "    }\n",
              "\n",
              "    .dataframe tbody tr th {\n",
              "        vertical-align: top;\n",
              "    }\n",
              "\n",
              "    .dataframe thead th {\n",
              "        text-align: right;\n",
              "    }\n",
              "</style>\n",
              "<table border=\"1\" class=\"dataframe\">\n",
              "  <thead>\n",
              "    <tr style=\"text-align: right;\">\n",
              "      <th></th>\n",
              "      <th>university</th>\n",
              "      <th>year</th>\n",
              "      <th>location</th>\n",
              "    </tr>\n",
              "  </thead>\n",
              "  <tbody>\n",
              "    <tr>\n",
              "      <th>0</th>\n",
              "      <td>USM</td>\n",
              "      <td>1969</td>\n",
              "      <td>Pulau Pinang</td>\n",
              "    </tr>\n",
              "    <tr>\n",
              "      <th>1</th>\n",
              "      <td>UM</td>\n",
              "      <td>1905</td>\n",
              "      <td>Kuala Lumpur</td>\n",
              "    </tr>\n",
              "    <tr>\n",
              "      <th>2</th>\n",
              "      <td>UPM</td>\n",
              "      <td>1931</td>\n",
              "      <td>Serdang, Selangor</td>\n",
              "    </tr>\n",
              "    <tr>\n",
              "      <th>3</th>\n",
              "      <td>UKM</td>\n",
              "      <td>1970</td>\n",
              "      <td>Bangi, Selangor</td>\n",
              "    </tr>\n",
              "    <tr>\n",
              "      <th>4</th>\n",
              "      <td>UTM</td>\n",
              "      <td>1972</td>\n",
              "      <td>Skudai, Johor</td>\n",
              "    </tr>\n",
              "    <tr>\n",
              "      <th>5</th>\n",
              "      <td>UiTM</td>\n",
              "      <td>1956</td>\n",
              "      <td>Shah Alam, Selangor</td>\n",
              "    </tr>\n",
              "    <tr>\n",
              "      <th>6</th>\n",
              "      <td>UniMAP</td>\n",
              "      <td>2001</td>\n",
              "      <td>Arau, Perlis</td>\n",
              "    </tr>\n",
              "    <tr>\n",
              "      <th>8</th>\n",
              "      <td>UteM</td>\n",
              "      <td>2000</td>\n",
              "      <td>Durian, Melaka</td>\n",
              "    </tr>\n",
              "  </tbody>\n",
              "</table>\n",
              "</div>"
            ],
            "text/plain": [
              "  university  year             location\n",
              "0        USM  1969         Pulau Pinang\n",
              "1         UM  1905         Kuala Lumpur\n",
              "2        UPM  1931    Serdang, Selangor\n",
              "3        UKM  1970      Bangi, Selangor\n",
              "4        UTM  1972        Skudai, Johor\n",
              "5       UiTM  1956  Shah Alam, Selangor\n",
              "6     UniMAP  2001         Arau, Perlis\n",
              "8       UteM  2000       Durian, Melaka"
            ]
          },
          "execution_count": 24,
          "metadata": {},
          "output_type": "execute_result"
        }
      ],
      "source": [
        "fm1.drop(7)"
      ]
    },
    {
      "cell_type": "code",
      "execution_count": null,
      "id": "dbfb8ee8",
      "metadata": {
        "id": "dbfb8ee8",
        "outputId": "c22fcf42-f056-4258-ca7e-df74ceb54400"
      },
      "outputs": [
        {
          "name": "stdout",
          "output_type": "stream",
          "text": [
            "cost        82160\n",
            "duration     4108\n",
            "dtype: int64\n",
            "cost        602.0\n",
            "duration     30.1\n",
            "dtype: float64\n"
          ]
        }
      ],
      "source": [
        "s1 = pd.Series([82160,4108], index=['cost','duration'])\n",
        "s2 = pd.Series([602,30.1], index=['cost','duration'])\n",
        "print(s1)\n",
        "print(s2)"
      ]
    },
    {
      "cell_type": "code",
      "execution_count": null,
      "id": "6e3cd212",
      "metadata": {
        "id": "6e3cd212"
      },
      "outputs": [],
      "source": [
        "fm2 = pd.concat([s1,s2], axis=1)"
      ]
    },
    {
      "cell_type": "code",
      "execution_count": null,
      "id": "8a3083f5",
      "metadata": {
        "id": "8a3083f5"
      },
      "outputs": [],
      "source": [
        "fm1.to_csv('uni_in_malay.csv', sep=';', header=True, index=False)"
      ]
    },
    {
      "cell_type": "code",
      "execution_count": null,
      "id": "b11e9517",
      "metadata": {
        "id": "b11e9517"
      },
      "outputs": [],
      "source": [
        "fm2 = pd.read_csv('C:/Users/Arya/Documents/USM/CPC251/diabetes.csv', sep=',') "
      ]
    },
    {
      "cell_type": "code",
      "execution_count": null,
      "id": "f6890594",
      "metadata": {
        "id": "f6890594",
        "outputId": "1b5bccda-c3c9-4a7e-fabd-b91f96982abf"
      },
      "outputs": [
        {
          "data": {
            "text/html": [
              "<div>\n",
              "<style scoped>\n",
              "    .dataframe tbody tr th:only-of-type {\n",
              "        vertical-align: middle;\n",
              "    }\n",
              "\n",
              "    .dataframe tbody tr th {\n",
              "        vertical-align: top;\n",
              "    }\n",
              "\n",
              "    .dataframe thead th {\n",
              "        text-align: right;\n",
              "    }\n",
              "</style>\n",
              "<table border=\"1\" class=\"dataframe\">\n",
              "  <thead>\n",
              "    <tr style=\"text-align: right;\">\n",
              "      <th></th>\n",
              "      <th>Pregnancies</th>\n",
              "      <th>Glucose</th>\n",
              "      <th>BloodPressure</th>\n",
              "      <th>SkinThickness</th>\n",
              "      <th>Insulin</th>\n",
              "      <th>BMI</th>\n",
              "      <th>DiabetesPedigreeFunction</th>\n",
              "      <th>Age</th>\n",
              "      <th>Outcome</th>\n",
              "    </tr>\n",
              "  </thead>\n",
              "  <tbody>\n",
              "    <tr>\n",
              "      <th>0</th>\n",
              "      <td>6</td>\n",
              "      <td>148</td>\n",
              "      <td>72</td>\n",
              "      <td>35</td>\n",
              "      <td>0</td>\n",
              "      <td>33.6</td>\n",
              "      <td>0.627</td>\n",
              "      <td>50</td>\n",
              "      <td>1</td>\n",
              "    </tr>\n",
              "    <tr>\n",
              "      <th>1</th>\n",
              "      <td>1</td>\n",
              "      <td>85</td>\n",
              "      <td>66</td>\n",
              "      <td>29</td>\n",
              "      <td>0</td>\n",
              "      <td>26.6</td>\n",
              "      <td>0.351</td>\n",
              "      <td>31</td>\n",
              "      <td>0</td>\n",
              "    </tr>\n",
              "    <tr>\n",
              "      <th>2</th>\n",
              "      <td>8</td>\n",
              "      <td>183</td>\n",
              "      <td>64</td>\n",
              "      <td>0</td>\n",
              "      <td>0</td>\n",
              "      <td>23.3</td>\n",
              "      <td>0.672</td>\n",
              "      <td>32</td>\n",
              "      <td>1</td>\n",
              "    </tr>\n",
              "    <tr>\n",
              "      <th>3</th>\n",
              "      <td>1</td>\n",
              "      <td>89</td>\n",
              "      <td>66</td>\n",
              "      <td>23</td>\n",
              "      <td>94</td>\n",
              "      <td>28.1</td>\n",
              "      <td>0.167</td>\n",
              "      <td>21</td>\n",
              "      <td>0</td>\n",
              "    </tr>\n",
              "    <tr>\n",
              "      <th>4</th>\n",
              "      <td>0</td>\n",
              "      <td>137</td>\n",
              "      <td>40</td>\n",
              "      <td>35</td>\n",
              "      <td>168</td>\n",
              "      <td>43.1</td>\n",
              "      <td>2.288</td>\n",
              "      <td>33</td>\n",
              "      <td>1</td>\n",
              "    </tr>\n",
              "  </tbody>\n",
              "</table>\n",
              "</div>"
            ],
            "text/plain": [
              "   Pregnancies  Glucose  BloodPressure  SkinThickness  Insulin   BMI  \\\n",
              "0            6      148             72             35        0  33.6   \n",
              "1            1       85             66             29        0  26.6   \n",
              "2            8      183             64              0        0  23.3   \n",
              "3            1       89             66             23       94  28.1   \n",
              "4            0      137             40             35      168  43.1   \n",
              "\n",
              "   DiabetesPedigreeFunction  Age  Outcome  \n",
              "0                     0.627   50        1  \n",
              "1                     0.351   31        0  \n",
              "2                     0.672   32        1  \n",
              "3                     0.167   21        0  \n",
              "4                     2.288   33        1  "
            ]
          },
          "execution_count": 34,
          "metadata": {},
          "output_type": "execute_result"
        }
      ],
      "source": [
        "fm2.head()"
      ]
    },
    {
      "cell_type": "code",
      "execution_count": null,
      "id": "542b5531",
      "metadata": {
        "id": "542b5531",
        "outputId": "9ef4473f-de2a-4e0a-c27a-d489faf668ad"
      },
      "outputs": [
        {
          "data": {
            "text/plain": [
              "Pregnancies                   3.845052\n",
              "Glucose                     120.894531\n",
              "BloodPressure                69.105469\n",
              "SkinThickness                20.536458\n",
              "Insulin                      79.799479\n",
              "BMI                          31.992578\n",
              "DiabetesPedigreeFunction      0.471876\n",
              "Age                          33.240885\n",
              "Outcome                       0.348958\n",
              "dtype: float64"
            ]
          },
          "execution_count": 35,
          "metadata": {},
          "output_type": "execute_result"
        }
      ],
      "source": [
        "fm2.mean(axis=0)"
      ]
    },
    {
      "cell_type": "code",
      "execution_count": null,
      "id": "315c1aa1",
      "metadata": {
        "id": "315c1aa1",
        "outputId": "78fe3952-0718-4dce-e107-7004e71d545f"
      },
      "outputs": [
        {
          "data": {
            "text/plain": [
              "Pregnancies                    11.354056\n",
              "Glucose                      1022.248314\n",
              "BloodPressure                 374.647271\n",
              "SkinThickness                 254.473245\n",
              "Insulin                     13281.180078\n",
              "BMI                            62.159984\n",
              "DiabetesPedigreeFunction        0.109779\n",
              "Age                           138.303046\n",
              "Outcome                         0.227483\n",
              "dtype: float64"
            ]
          },
          "execution_count": 36,
          "metadata": {},
          "output_type": "execute_result"
        }
      ],
      "source": [
        "fm2.var(axis=0)"
      ]
    },
    {
      "cell_type": "code",
      "execution_count": null,
      "id": "0b6e8027",
      "metadata": {
        "id": "0b6e8027",
        "outputId": "0cad3033-a4db-4037-90ea-1b91723d9a7c"
      },
      "outputs": [
        {
          "data": {
            "text/html": [
              "<div>\n",
              "<style scoped>\n",
              "    .dataframe tbody tr th:only-of-type {\n",
              "        vertical-align: middle;\n",
              "    }\n",
              "\n",
              "    .dataframe tbody tr th {\n",
              "        vertical-align: top;\n",
              "    }\n",
              "\n",
              "    .dataframe thead th {\n",
              "        text-align: right;\n",
              "    }\n",
              "</style>\n",
              "<table border=\"1\" class=\"dataframe\">\n",
              "  <thead>\n",
              "    <tr style=\"text-align: right;\">\n",
              "      <th></th>\n",
              "      <th>Pregnancies</th>\n",
              "      <th>Glucose</th>\n",
              "      <th>BloodPressure</th>\n",
              "      <th>SkinThickness</th>\n",
              "      <th>Insulin</th>\n",
              "      <th>BMI</th>\n",
              "      <th>DiabetesPedigreeFunction</th>\n",
              "      <th>Age</th>\n",
              "      <th>Outcome</th>\n",
              "    </tr>\n",
              "  </thead>\n",
              "  <tbody>\n",
              "    <tr>\n",
              "      <th>count</th>\n",
              "      <td>768.000000</td>\n",
              "      <td>768.000000</td>\n",
              "      <td>768.000000</td>\n",
              "      <td>768.000000</td>\n",
              "      <td>768.000000</td>\n",
              "      <td>768.000000</td>\n",
              "      <td>768.000000</td>\n",
              "      <td>768.000000</td>\n",
              "      <td>768.000000</td>\n",
              "    </tr>\n",
              "    <tr>\n",
              "      <th>mean</th>\n",
              "      <td>3.845052</td>\n",
              "      <td>120.894531</td>\n",
              "      <td>69.105469</td>\n",
              "      <td>20.536458</td>\n",
              "      <td>79.799479</td>\n",
              "      <td>31.992578</td>\n",
              "      <td>0.471876</td>\n",
              "      <td>33.240885</td>\n",
              "      <td>0.348958</td>\n",
              "    </tr>\n",
              "    <tr>\n",
              "      <th>std</th>\n",
              "      <td>3.369578</td>\n",
              "      <td>31.972618</td>\n",
              "      <td>19.355807</td>\n",
              "      <td>15.952218</td>\n",
              "      <td>115.244002</td>\n",
              "      <td>7.884160</td>\n",
              "      <td>0.331329</td>\n",
              "      <td>11.760232</td>\n",
              "      <td>0.476951</td>\n",
              "    </tr>\n",
              "    <tr>\n",
              "      <th>min</th>\n",
              "      <td>0.000000</td>\n",
              "      <td>0.000000</td>\n",
              "      <td>0.000000</td>\n",
              "      <td>0.000000</td>\n",
              "      <td>0.000000</td>\n",
              "      <td>0.000000</td>\n",
              "      <td>0.078000</td>\n",
              "      <td>21.000000</td>\n",
              "      <td>0.000000</td>\n",
              "    </tr>\n",
              "    <tr>\n",
              "      <th>25%</th>\n",
              "      <td>1.000000</td>\n",
              "      <td>99.000000</td>\n",
              "      <td>62.000000</td>\n",
              "      <td>0.000000</td>\n",
              "      <td>0.000000</td>\n",
              "      <td>27.300000</td>\n",
              "      <td>0.243750</td>\n",
              "      <td>24.000000</td>\n",
              "      <td>0.000000</td>\n",
              "    </tr>\n",
              "    <tr>\n",
              "      <th>50%</th>\n",
              "      <td>3.000000</td>\n",
              "      <td>117.000000</td>\n",
              "      <td>72.000000</td>\n",
              "      <td>23.000000</td>\n",
              "      <td>30.500000</td>\n",
              "      <td>32.000000</td>\n",
              "      <td>0.372500</td>\n",
              "      <td>29.000000</td>\n",
              "      <td>0.000000</td>\n",
              "    </tr>\n",
              "    <tr>\n",
              "      <th>75%</th>\n",
              "      <td>6.000000</td>\n",
              "      <td>140.250000</td>\n",
              "      <td>80.000000</td>\n",
              "      <td>32.000000</td>\n",
              "      <td>127.250000</td>\n",
              "      <td>36.600000</td>\n",
              "      <td>0.626250</td>\n",
              "      <td>41.000000</td>\n",
              "      <td>1.000000</td>\n",
              "    </tr>\n",
              "    <tr>\n",
              "      <th>max</th>\n",
              "      <td>17.000000</td>\n",
              "      <td>199.000000</td>\n",
              "      <td>122.000000</td>\n",
              "      <td>99.000000</td>\n",
              "      <td>846.000000</td>\n",
              "      <td>67.100000</td>\n",
              "      <td>2.420000</td>\n",
              "      <td>81.000000</td>\n",
              "      <td>1.000000</td>\n",
              "    </tr>\n",
              "  </tbody>\n",
              "</table>\n",
              "</div>"
            ],
            "text/plain": [
              "       Pregnancies     Glucose  BloodPressure  SkinThickness     Insulin  \\\n",
              "count   768.000000  768.000000     768.000000     768.000000  768.000000   \n",
              "mean      3.845052  120.894531      69.105469      20.536458   79.799479   \n",
              "std       3.369578   31.972618      19.355807      15.952218  115.244002   \n",
              "min       0.000000    0.000000       0.000000       0.000000    0.000000   \n",
              "25%       1.000000   99.000000      62.000000       0.000000    0.000000   \n",
              "50%       3.000000  117.000000      72.000000      23.000000   30.500000   \n",
              "75%       6.000000  140.250000      80.000000      32.000000  127.250000   \n",
              "max      17.000000  199.000000     122.000000      99.000000  846.000000   \n",
              "\n",
              "              BMI  DiabetesPedigreeFunction         Age     Outcome  \n",
              "count  768.000000                768.000000  768.000000  768.000000  \n",
              "mean    31.992578                  0.471876   33.240885    0.348958  \n",
              "std      7.884160                  0.331329   11.760232    0.476951  \n",
              "min      0.000000                  0.078000   21.000000    0.000000  \n",
              "25%     27.300000                  0.243750   24.000000    0.000000  \n",
              "50%     32.000000                  0.372500   29.000000    0.000000  \n",
              "75%     36.600000                  0.626250   41.000000    1.000000  \n",
              "max     67.100000                  2.420000   81.000000    1.000000  "
            ]
          },
          "execution_count": 37,
          "metadata": {},
          "output_type": "execute_result"
        }
      ],
      "source": [
        "fm2.describe()"
      ]
    },
    {
      "cell_type": "code",
      "execution_count": null,
      "id": "72eae109",
      "metadata": {
        "id": "72eae109"
      },
      "outputs": [],
      "source": [
        "corr_matrix=fm2.corr()"
      ]
    },
    {
      "cell_type": "code",
      "execution_count": null,
      "id": "74a67327",
      "metadata": {
        "id": "74a67327"
      },
      "outputs": [],
      "source": [
        "corr_matrix"
      ]
    },
    {
      "cell_type": "code",
      "execution_count": null,
      "id": "c95c6c7e",
      "metadata": {
        "id": "c95c6c7e"
      },
      "outputs": [],
      "source": [
        "cov_matrix = fm2.cov()"
      ]
    },
    {
      "cell_type": "code",
      "execution_count": null,
      "id": "5c4348ca",
      "metadata": {
        "id": "5c4348ca",
        "outputId": "165c98e5-5e81-4fa1-b8c6-d8d05fc3579b"
      },
      "outputs": [
        {
          "data": {
            "text/html": [
              "<div>\n",
              "<style scoped>\n",
              "    .dataframe tbody tr th:only-of-type {\n",
              "        vertical-align: middle;\n",
              "    }\n",
              "\n",
              "    .dataframe tbody tr th {\n",
              "        vertical-align: top;\n",
              "    }\n",
              "\n",
              "    .dataframe thead th {\n",
              "        text-align: right;\n",
              "    }\n",
              "</style>\n",
              "<table border=\"1\" class=\"dataframe\">\n",
              "  <thead>\n",
              "    <tr style=\"text-align: right;\">\n",
              "      <th></th>\n",
              "      <th>Pregnancies</th>\n",
              "      <th>Glucose</th>\n",
              "      <th>BloodPressure</th>\n",
              "      <th>SkinThickness</th>\n",
              "      <th>Insulin</th>\n",
              "      <th>BMI</th>\n",
              "      <th>DiabetesPedigreeFunction</th>\n",
              "      <th>Age</th>\n",
              "      <th>Outcome</th>\n",
              "    </tr>\n",
              "  </thead>\n",
              "  <tbody>\n",
              "    <tr>\n",
              "      <th>Pregnancies</th>\n",
              "      <td>11.354056</td>\n",
              "      <td>13.947131</td>\n",
              "      <td>9.214538</td>\n",
              "      <td>-4.390041</td>\n",
              "      <td>-28.555231</td>\n",
              "      <td>0.469774</td>\n",
              "      <td>-0.037426</td>\n",
              "      <td>21.570620</td>\n",
              "      <td>0.356618</td>\n",
              "    </tr>\n",
              "    <tr>\n",
              "      <th>Glucose</th>\n",
              "      <td>13.947131</td>\n",
              "      <td>1022.248314</td>\n",
              "      <td>94.430956</td>\n",
              "      <td>29.239183</td>\n",
              "      <td>1220.935799</td>\n",
              "      <td>55.726987</td>\n",
              "      <td>1.454875</td>\n",
              "      <td>99.082805</td>\n",
              "      <td>7.115079</td>\n",
              "    </tr>\n",
              "    <tr>\n",
              "      <th>BloodPressure</th>\n",
              "      <td>9.214538</td>\n",
              "      <td>94.430956</td>\n",
              "      <td>374.647271</td>\n",
              "      <td>64.029396</td>\n",
              "      <td>198.378412</td>\n",
              "      <td>43.004695</td>\n",
              "      <td>0.264638</td>\n",
              "      <td>54.523453</td>\n",
              "      <td>0.600697</td>\n",
              "    </tr>\n",
              "    <tr>\n",
              "      <th>SkinThickness</th>\n",
              "      <td>-4.390041</td>\n",
              "      <td>29.239183</td>\n",
              "      <td>64.029396</td>\n",
              "      <td>254.473245</td>\n",
              "      <td>802.979941</td>\n",
              "      <td>49.373869</td>\n",
              "      <td>0.972136</td>\n",
              "      <td>-21.381023</td>\n",
              "      <td>0.568747</td>\n",
              "    </tr>\n",
              "    <tr>\n",
              "      <th>Insulin</th>\n",
              "      <td>-28.555231</td>\n",
              "      <td>1220.935799</td>\n",
              "      <td>198.378412</td>\n",
              "      <td>802.979941</td>\n",
              "      <td>13281.180078</td>\n",
              "      <td>179.775172</td>\n",
              "      <td>7.066681</td>\n",
              "      <td>-57.143290</td>\n",
              "      <td>7.175671</td>\n",
              "    </tr>\n",
              "    <tr>\n",
              "      <th>BMI</th>\n",
              "      <td>0.469774</td>\n",
              "      <td>55.726987</td>\n",
              "      <td>43.004695</td>\n",
              "      <td>49.373869</td>\n",
              "      <td>179.775172</td>\n",
              "      <td>62.159984</td>\n",
              "      <td>0.367405</td>\n",
              "      <td>3.360330</td>\n",
              "      <td>1.100638</td>\n",
              "    </tr>\n",
              "    <tr>\n",
              "      <th>DiabetesPedigreeFunction</th>\n",
              "      <td>-0.037426</td>\n",
              "      <td>1.454875</td>\n",
              "      <td>0.264638</td>\n",
              "      <td>0.972136</td>\n",
              "      <td>7.066681</td>\n",
              "      <td>0.367405</td>\n",
              "      <td>0.109779</td>\n",
              "      <td>0.130772</td>\n",
              "      <td>0.027472</td>\n",
              "    </tr>\n",
              "    <tr>\n",
              "      <th>Age</th>\n",
              "      <td>21.570620</td>\n",
              "      <td>99.082805</td>\n",
              "      <td>54.523453</td>\n",
              "      <td>-21.381023</td>\n",
              "      <td>-57.143290</td>\n",
              "      <td>3.360330</td>\n",
              "      <td>0.130772</td>\n",
              "      <td>138.303046</td>\n",
              "      <td>1.336953</td>\n",
              "    </tr>\n",
              "    <tr>\n",
              "      <th>Outcome</th>\n",
              "      <td>0.356618</td>\n",
              "      <td>7.115079</td>\n",
              "      <td>0.600697</td>\n",
              "      <td>0.568747</td>\n",
              "      <td>7.175671</td>\n",
              "      <td>1.100638</td>\n",
              "      <td>0.027472</td>\n",
              "      <td>1.336953</td>\n",
              "      <td>0.227483</td>\n",
              "    </tr>\n",
              "  </tbody>\n",
              "</table>\n",
              "</div>"
            ],
            "text/plain": [
              "                          Pregnancies      Glucose  BloodPressure  \\\n",
              "Pregnancies                 11.354056    13.947131       9.214538   \n",
              "Glucose                     13.947131  1022.248314      94.430956   \n",
              "BloodPressure                9.214538    94.430956     374.647271   \n",
              "SkinThickness               -4.390041    29.239183      64.029396   \n",
              "Insulin                    -28.555231  1220.935799     198.378412   \n",
              "BMI                          0.469774    55.726987      43.004695   \n",
              "DiabetesPedigreeFunction    -0.037426     1.454875       0.264638   \n",
              "Age                         21.570620    99.082805      54.523453   \n",
              "Outcome                      0.356618     7.115079       0.600697   \n",
              "\n",
              "                          SkinThickness       Insulin         BMI  \\\n",
              "Pregnancies                   -4.390041    -28.555231    0.469774   \n",
              "Glucose                       29.239183   1220.935799   55.726987   \n",
              "BloodPressure                 64.029396    198.378412   43.004695   \n",
              "SkinThickness                254.473245    802.979941   49.373869   \n",
              "Insulin                      802.979941  13281.180078  179.775172   \n",
              "BMI                           49.373869    179.775172   62.159984   \n",
              "DiabetesPedigreeFunction       0.972136      7.066681    0.367405   \n",
              "Age                          -21.381023    -57.143290    3.360330   \n",
              "Outcome                        0.568747      7.175671    1.100638   \n",
              "\n",
              "                          DiabetesPedigreeFunction         Age   Outcome  \n",
              "Pregnancies                              -0.037426   21.570620  0.356618  \n",
              "Glucose                                   1.454875   99.082805  7.115079  \n",
              "BloodPressure                             0.264638   54.523453  0.600697  \n",
              "SkinThickness                             0.972136  -21.381023  0.568747  \n",
              "Insulin                                   7.066681  -57.143290  7.175671  \n",
              "BMI                                       0.367405    3.360330  1.100638  \n",
              "DiabetesPedigreeFunction                  0.109779    0.130772  0.027472  \n",
              "Age                                       0.130772  138.303046  1.336953  \n",
              "Outcome                                   0.027472    1.336953  0.227483  "
            ]
          },
          "execution_count": 41,
          "metadata": {},
          "output_type": "execute_result"
        }
      ],
      "source": [
        "cov_matrix"
      ]
    },
    {
      "cell_type": "code",
      "execution_count": null,
      "id": "652d9988",
      "metadata": {
        "id": "652d9988"
      },
      "outputs": [],
      "source": [
        ""
      ]
    }
  ],
  "metadata": {
    "kernelspec": {
      "display_name": "Python 3 (ipykernel)",
      "language": "python",
      "name": "python3"
    },
    "language_info": {
      "codemirror_mode": {
        "name": "ipython",
        "version": 3
      },
      "file_extension": ".py",
      "mimetype": "text/x-python",
      "name": "python",
      "nbconvert_exporter": "python",
      "pygments_lexer": "ipython3",
      "version": "3.9.7"
    },
    "colab": {
      "name": "Pandas_Tut1.ipynb",
      "provenance": []
    }
  },
  "nbformat": 4,
  "nbformat_minor": 5
}